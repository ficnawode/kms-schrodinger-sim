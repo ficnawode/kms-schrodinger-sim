{
 "cells": [
  {
   "cell_type": "code",
   "execution_count": 7,
   "metadata": {},
   "outputs": [],
   "source": [
    "from simulation import SchrodingerSim\n",
    "import numpy as np"
   ]
  },
  {
   "cell_type": "code",
   "execution_count": 8,
   "metadata": {},
   "outputs": [],
   "source": [
    "def V_gauss(x):\n",
    "    mu = 10\n",
    "    sigma = 0.5\n",
    "    v_0 = 105\n",
    "    L = x.max() - x.min()\n",
    "    return v_0*np.exp(-(x-mu)**2/(sigma**2))\n",
    "\n",
    "def V_zero(x):\n",
    "    return np.zeros(len(x))"
   ]
  },
  {
   "cell_type": "code",
   "execution_count": 9,
   "metadata": {},
   "outputs": [
    {
     "name": "stderr",
     "output_type": "stream",
     "text": [
      "  0%|          | 0/2000 [00:00<?, ?it/s]"
     ]
    },
    {
     "name": "stderr",
     "output_type": "stream",
     "text": [
      "  1%|          | 19/2000 [00:00<00:58, 33.65it/s]\n"
     ]
    },
    {
     "ename": "KeyboardInterrupt",
     "evalue": "",
     "output_type": "error",
     "traceback": [
      "\u001b[0;31m---------------------------------------------------------------------------\u001b[0m",
      "\u001b[0;31mKeyboardInterrupt\u001b[0m                         Traceback (most recent call last)",
      "\u001b[1;32m/home/tobiaszfic/school/kms/lab2/src/simulation.ipynb Cell 3\u001b[0m line \u001b[0;36m4\n\u001b[1;32m      <a href='vscode-notebook-cell:/home/tobiaszfic/school/kms/lab2/src/simulation.ipynb#W3sZmlsZQ%3D%3D?line=1'>2</a>\u001b[0m \u001b[39mfor\u001b[39;00m dk \u001b[39min\u001b[39;00m dk_s:\n\u001b[1;32m      <a href='vscode-notebook-cell:/home/tobiaszfic/school/kms/lab2/src/simulation.ipynb#W3sZmlsZQ%3D%3D?line=2'>3</a>\u001b[0m     s_gauss \u001b[39m=\u001b[39m SchrodingerSim(V\u001b[39m=\u001b[39mV_gauss, dk\u001b[39m=\u001b[39mdk)\n\u001b[0;32m----> <a href='vscode-notebook-cell:/home/tobiaszfic/school/kms/lab2/src/simulation.ipynb#W3sZmlsZQ%3D%3D?line=3'>4</a>\u001b[0m     s_gauss\u001b[39m.\u001b[39;49mmake_animation(\u001b[39mf\u001b[39;49m\u001b[39m'\u001b[39;49m\u001b[39mout/dk_eq_\u001b[39;49m\u001b[39m{\u001b[39;49;00mdk\u001b[39m}\u001b[39;49;00m\u001b[39m_gauss_pot.gif\u001b[39;49m\u001b[39m'\u001b[39;49m)\n\u001b[1;32m      <a href='vscode-notebook-cell:/home/tobiaszfic/school/kms/lab2/src/simulation.ipynb#W3sZmlsZQ%3D%3D?line=5'>6</a>\u001b[0m     s_zero \u001b[39m=\u001b[39m SchrodingerSim(V\u001b[39m=\u001b[39mV_zero, dk\u001b[39m=\u001b[39mdk)\n\u001b[1;32m      <a href='vscode-notebook-cell:/home/tobiaszfic/school/kms/lab2/src/simulation.ipynb#W3sZmlsZQ%3D%3D?line=6'>7</a>\u001b[0m     s_zero\u001b[39m.\u001b[39mmake_animation(\u001b[39mf\u001b[39m\u001b[39m'\u001b[39m\u001b[39mout/dk_eq_\u001b[39m\u001b[39m{\u001b[39;00mdk\u001b[39m}\u001b[39;00m\u001b[39m_zero_pot.gif\u001b[39m\u001b[39m'\u001b[39m)\n",
      "File \u001b[0;32m~/school/kms/lab2/src/simulation.py:44\u001b[0m, in \u001b[0;36mSchrodingerSim.make_animation\u001b[0;34m(self, gif_path)\u001b[0m\n\u001b[1;32m     42\u001b[0m psi_s \u001b[39m=\u001b[39m []\n\u001b[1;32m     43\u001b[0m \u001b[39mfor\u001b[39;00m i \u001b[39min\u001b[39;00m tqdm\u001b[39m.\u001b[39mtqdm(\u001b[39mrange\u001b[39m(\u001b[39mself\u001b[39m\u001b[39m.\u001b[39mJ)):\n\u001b[0;32m---> 44\u001b[0m     psi_i \u001b[39m=\u001b[39m np\u001b[39m.\u001b[39;49mlinalg\u001b[39m.\u001b[39;49msolve(A_mat, r_vec)\n\u001b[1;32m     45\u001b[0m     psi_s\u001b[39m.\u001b[39mappend([\u001b[39m0\u001b[39m, \u001b[39m*\u001b[39mpsi_i, \u001b[39m0\u001b[39m])\n\u001b[1;32m     46\u001b[0m     r_vec \u001b[39m=\u001b[39m \u001b[39mself\u001b[39m\u001b[39m.\u001b[39mcalculate_r_vec([\u001b[39m0\u001b[39m, \u001b[39m*\u001b[39mpsi_i, \u001b[39m0\u001b[39m], \u001b[39mself\u001b[39m\u001b[39m.\u001b[39mV(\u001b[39mself\u001b[39m\u001b[39m.\u001b[39mx))\n",
      "File \u001b[0;32m<__array_function__ internals>:200\u001b[0m, in \u001b[0;36msolve\u001b[0;34m(*args, **kwargs)\u001b[0m\n",
      "File \u001b[0;32m~/fair/miniconda3/envs/kmsconda/lib/python3.9/site-packages/numpy/linalg/linalg.py:386\u001b[0m, in \u001b[0;36msolve\u001b[0;34m(a, b)\u001b[0m\n\u001b[1;32m    384\u001b[0m signature \u001b[39m=\u001b[39m \u001b[39m'\u001b[39m\u001b[39mDD->D\u001b[39m\u001b[39m'\u001b[39m \u001b[39mif\u001b[39;00m isComplexType(t) \u001b[39melse\u001b[39;00m \u001b[39m'\u001b[39m\u001b[39mdd->d\u001b[39m\u001b[39m'\u001b[39m\n\u001b[1;32m    385\u001b[0m extobj \u001b[39m=\u001b[39m get_linalg_error_extobj(_raise_linalgerror_singular)\n\u001b[0;32m--> 386\u001b[0m r \u001b[39m=\u001b[39m gufunc(a, b, signature\u001b[39m=\u001b[39;49msignature, extobj\u001b[39m=\u001b[39;49mextobj)\n\u001b[1;32m    388\u001b[0m \u001b[39mreturn\u001b[39;00m wrap(r\u001b[39m.\u001b[39mastype(result_t, copy\u001b[39m=\u001b[39m\u001b[39mFalse\u001b[39;00m))\n",
      "\u001b[0;31mKeyboardInterrupt\u001b[0m: "
     ]
    }
   ],
   "source": [
    "dk_s = [0.5,0.75,1,1.5]\n",
    "for dk in dk_s:\n",
    "    s_zero = SchrodingerSim(V=V_zero, dk=dk)\n",
    "    s_zero.make_animation(f'out/dk_eq_{dk}_zero_pot.gif')\n",
    "    \n",
    "    s_gauss = SchrodingerSim(V=V_gauss, dk=dk)\n",
    "    s_gauss.make_animation(f'out/dk_eq_{dk}_gauss_pot.gif')\n",
    "\n"
   ]
  },
  {
   "cell_type": "code",
   "execution_count": null,
   "metadata": {},
   "outputs": [],
   "source": []
  }
 ],
 "metadata": {
  "kernelspec": {
   "display_name": "kmsconda",
   "language": "python",
   "name": "python3"
  },
  "language_info": {
   "codemirror_mode": {
    "name": "ipython",
    "version": 3
   },
   "file_extension": ".py",
   "mimetype": "text/x-python",
   "name": "python",
   "nbconvert_exporter": "python",
   "pygments_lexer": "ipython3",
   "version": "3.9.18"
  }
 },
 "nbformat": 4,
 "nbformat_minor": 2
}
